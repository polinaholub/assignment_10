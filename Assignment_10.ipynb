{
 "cells": [
  {
   "cell_type": "markdown",
   "metadata": {},
   "source": [
    "Write a program that generates 26 text files named A.txt, B.txt, and so on up to Z.txt. To each file append a random number between 1 and 100. Create a summary file (summary.txt) that contains the name of the file and the number in that file: A.txt: 67 B.txt: 12...Z.txt: 98"
   ]
  },
  {
   "cell_type": "code",
   "execution_count": 6,
   "metadata": {},
   "outputs": [],
   "source": [
    "from random import randint\n",
    "import string \n",
    "import os\n",
    "\n",
    "def txt_A_to_Z():\n",
    "    alphabet = string.ascii_uppercase\n",
    "    txt_dict = {}\n",
    "\n",
    "    if not os.path.exists('text_files'):\n",
    "        os.mkdir('txt_files')\n",
    "    \n",
    "    for i in alphabet:\n",
    "        with open(f'txt_files/{i}.txt', 'w') as file:\n",
    "            num_random = randint(1,100)\n",
    "            file.write(str(num_random))\n",
    "            txt_dict[i] = num_random\n",
    "\n",
    "    with open('txt_files/summary_txt', 'a') as file:\n",
    "        for key, value in txt_dict.items():\n",
    "            file.write(f\"{key}.txt: {value} \\n\")\n",
    "\n",
    "txt_A_to_Z()"
   ]
  },
  {
   "cell_type": "markdown",
   "metadata": {},
   "source": [
    "Create a file with some content. As example, you can take this one:\n",
    "\n",
    "“Lorem ipsum dolor sit amet, consectetur adipiscing elit, sed do eiusmod tempor incididunt ut labore et dolore magna aliqua. Ut enim ad minim veniam, quis nostrud exercitation ullamco laboris nisi ut aliquip ex ea commodo consequat. Duis aute irure dolor in reprehenderit in voluptate velit esse cillum dolore eu fugiat nulla pariatur. Excepteur sint occaecat cupidatat non proident, sunt in culpa qui officia deserunt mollit anim id est laborum”.\n",
    "\n",
    "Create a second file and copy the content of the first file to the second file in upper case."
   ]
  },
  {
   "cell_type": "code",
   "execution_count": 19,
   "metadata": {},
   "outputs": [],
   "source": [
    "with open('some_content_file.txt', 'w') as file:\n",
    "    file.write('Lorem ipsum dolor sit amet, consectetur adipiscing elit, sed do eiusmod tempor incididunt ut labore et dolore magna aliqua. Ut enim ad minim veniam, quis nostrud exercitation ullamco laboris nisi ut aliquip ex ea commodo consequat. Duis aute irure dolor in reprehenderit in voluptate velit esse cillum dolore eu fugiat nulla pariatur. Excepteur sint occaecat cupidatat non proident, sunt in culpa qui officia deserunt mollit anim id est laborum')\n",
    "\n",
    "with open('some_content_file.txt', 'r') as file_first:\n",
    "    content_uppercase = file_first.read().upper()\n",
    "\n",
    "with open('second_content_file.txt', 'w') as file_second:\n",
    "    file_second.write(content_uppercase)\n",
    "    "
   ]
  },
  {
   "cell_type": "markdown",
   "metadata": {},
   "source": [
    "Write a program that will simulate user scores in a game. Create a list with 5 players’ names after that simulate 100 rounds for each player. As a result of the game create a list with the player's name and score (0-1000 range). And save it to a CSV file. The file should look like this:\n",
    "\n",
    "Player name, Score\n",
    "Josh, 56\n",
    "Luke, 784\n",
    "Kate, 90\n",
    "Mark, 125\n",
    "Mary, 877\n",
    "Josh, 345\n",
    "..."
   ]
  },
  {
   "cell_type": "code",
   "execution_count": 2,
   "metadata": {},
   "outputs": [
    {
     "name": "stdout",
     "output_type": "stream",
     "text": [
      "[('Josh', 476), ('Luke', 760), ('Kate', 93), ('Mark', 980), ('Mary', 113), ('Josh', 263)]\n"
     ]
    }
   ],
   "source": [
    "import random\n",
    "\n",
    "players_list = ['Josh', 'Luke', 'Kate', 'Mark', 'Mary', 'Josh']\n",
    "result = []\n",
    "\n",
    "for player in players_list:\n",
    "    count = 0\n",
    "    for i in range(1,100):\n",
    "        score = random.randint(0,1000)\n",
    "        count += score\n",
    "    result.append((player, score))\n",
    "\n",
    "print(result)\n",
    "\n",
    "import csv\n",
    "\n",
    "with open('players_score.csv', 'w') as csvf:\n",
    "    writer = csv.writer(csvf)\n",
    "    writer.writerow(['Player','Score'])\n",
    "    writer.writerows(result)\n"
   ]
  },
  {
   "cell_type": "markdown",
   "metadata": {},
   "source": [
    "Write a script that reads the data from the previous CSV file and creates a new file called high_scores.csv where each row contains the player name and their highest score. The final score should be sorted by descending to the highest score. The output CSV file should look like this:\n",
    "\n",
    "Player name, Highest score\n",
    "Kate, 907\n",
    "Mary, 897\n",
    "Luke, 784\n",
    "Mark, 725\n",
    "Josh, 345"
   ]
  },
  {
   "cell_type": "code",
   "execution_count": 13,
   "metadata": {},
   "outputs": [],
   "source": [
    "import csv\n",
    "\n",
    "player_scores = {}\n",
    "with open('players_score.csv', mode='r') as file:\n",
    "    reader = csv.reader(file)\n",
    "    header = next(reader)  \n",
    "    if header != ['Player', 'Score']:\n",
    "        print(\"CSV file is not formatted correctly. Please make sure the header is 'Player,Score'.\")\n",
    "    else:\n",
    "        for row in reader:\n",
    "            if len(row) == 2:\n",
    "                player = row[0]\n",
    "                try:\n",
    "                    score = int(row[1])\n",
    "                    if player in player_scores:\n",
    "                        player_scores[player] = max(player_scores[player], score)\n",
    "                    else:\n",
    "                        player_scores[player] = score\n",
    "                except ValueError:\n",
    "                    print(f\"Invalid score for player '{player}'. Skipping this entry.\")\n",
    "           \n",
    "\n",
    "sorted_player_scores = sorted(player_scores.items(), key=lambda x: x[1], reverse=True)\n",
    "\n",
    "\n",
    "with open('high_scores.csv', 'w', newline='') as file:\n",
    "    writer = csv.writer(file)\n",
    "    writer.writerow(['Player', 'Highest Score'])\n",
    "    writer.writerows(sorted_player_scores)\n",
    "\n"
   ]
  }
 ],
 "metadata": {
  "kernelspec": {
   "display_name": "Python 3",
   "language": "python",
   "name": "python3"
  },
  "language_info": {
   "codemirror_mode": {
    "name": "ipython",
    "version": 3
   },
   "file_extension": ".py",
   "mimetype": "text/x-python",
   "name": "python",
   "nbconvert_exporter": "python",
   "pygments_lexer": "ipython3",
   "version": "3.11.4"
  },
  "orig_nbformat": 4
 },
 "nbformat": 4,
 "nbformat_minor": 2
}
